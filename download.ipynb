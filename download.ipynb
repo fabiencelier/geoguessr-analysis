{
 "cells": [
  {
   "cell_type": "markdown",
   "metadata": {},
   "source": [
    "## Data download"
   ]
  },
  {
   "cell_type": "code",
   "execution_count": null,
   "metadata": {},
   "outputs": [],
   "source": [
    "import requests"
   ]
  },
  {
   "cell_type": "code",
   "execution_count": null,
   "metadata": {},
   "outputs": [],
   "source": [
    "sheet_id = \"1nshYGWLb-YrsiQIjRWJpoa6qAOi2Qra4xZ2ri1t3Osg\"\n",
    "url_pattern = f\"https://docs.google.com/spreadsheets/d/{sheet_id}/export?format=csv&gid=\""
   ]
  },
  {
   "cell_type": "code",
   "execution_count": null,
   "metadata": {},
   "outputs": [],
   "source": [
    "files = {\n",
    "    \"0\": \"scores.csv\",\n",
    "    \"1000391055\": \"games.csv\",\n",
    "    \"500264802\": \"rounds.csv\",\n",
    "    \"429667429\": \"continents.csv\"\n",
    "}"
   ]
  },
  {
   "cell_type": "code",
   "execution_count": null,
   "metadata": {},
   "outputs": [],
   "source": [
    "for index, name in files.items():\n",
    "    with open(f\"data/{name}\", \"w\") as f:\n",
    "        response = requests.get(f\"{url_pattern}{index}\")\n",
    "        f.write(str(response.content, \"utf-8\"))"
   ]
  },
  {
   "cell_type": "code",
   "execution_count": null,
   "metadata": {},
   "outputs": [],
   "source": []
  }
 ],
 "metadata": {
  "kernelspec": {
   "display_name": "Python 3",
   "language": "python",
   "name": "python3"
  },
  "language_info": {
   "codemirror_mode": {
    "name": "ipython",
    "version": 3
   },
   "file_extension": ".py",
   "mimetype": "text/x-python",
   "name": "python",
   "nbconvert_exporter": "python",
   "pygments_lexer": "ipython3",
   "version": "3.8.5"
  }
 },
 "nbformat": 4,
 "nbformat_minor": 4
}
